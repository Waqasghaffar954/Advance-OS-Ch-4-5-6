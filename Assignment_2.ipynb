{
  "nbformat": 4,
  "nbformat_minor": 0,
  "metadata": {
    "colab": {
      "provenance": [],
      "toc_visible": true
    },
    "kernelspec": {
      "name": "python3",
      "display_name": "Python 3"
    },
    "language_info": {
      "name": "python"
    }
  },
  "cells": [
    {
      "cell_type": "markdown",
      "source": [
        "Problem 4-11. My pizzas, your pizzas start with your program from exercise 4-1(page 60). Make a copy of list of pizzas call it friend pizza...."
      ],
      "metadata": {
        "id": "GZMRHELx3qci"
      }
    },
    {
      "cell_type": "code",
      "source": [
        "waqas_pizzas_list=['Fajeeta', 'BoneFire', 'Shahi Tikka']\n",
        "friend_pizzas=waqas_pizzas_list\n",
        "waqas_pizzas_list.append('Crown')\n",
        "print('My favourite Pizzas are:')\n",
        "for pizza in waqas_pizzas_list:\n",
        "  print(pizza)\n",
        "waqas_pizzas_list.remove('Crown')\n",
        "friend_pizzas.append('Chicken tikka')\n",
        "print('\\nMy friends favourite Pizzas are:')\n",
        "for pizzas in friend_pizzas:\n",
        "  print(pizzas)"
      ],
      "metadata": {
        "colab": {
          "base_uri": "https://localhost:8080/"
        },
        "id": "H-rtu8otwgUw",
        "outputId": "3f85c2cc-5e1e-4096-8b2d-b2fcc940a44d"
      },
      "execution_count": 52,
      "outputs": [
        {
          "output_type": "stream",
          "name": "stdout",
          "text": [
            "My favourite Pizzas are:\n",
            "Fajeeta\n",
            "BoneFire\n",
            "Shahi Tikka\n",
            "Crown\n",
            "\n",
            "My friends favourite Pizzas are:\n",
            "Fajeeta\n",
            "BoneFire\n",
            "Shahi Tikka\n",
            "Chicken tikka\n"
          ]
        }
      ]
    },
    {
      "cell_type": "markdown",
      "source": [
        "Problem 4.13- Buffet: A buffet style resturaunt offers only five basic foods. Think of five basic foods and store them in a tuple............\n",
        "\n",
        "---\n",
        "\n"
      ],
      "metadata": {
        "id": "65bnCndR0QKU"
      }
    },
    {
      "cell_type": "code",
      "source": [
        "waqas_foods=('Chicken', 'Handi','Mutton','Fish','Daal')\n",
        "print('Restaurant five foods are:')\n",
        "for waqas_foods in waqas_foods:\n",
        "  print(waqas_foods)\n",
        "waqas_foods[0]= 'Sindhi Biryani'\n"
      ],
      "metadata": {
        "colab": {
          "base_uri": "https://localhost:8080/",
          "height": 304
        },
        "id": "k1aciaaI1KXF",
        "outputId": "9bace2ec-309a-4e2d-9070-a6f11da0da07"
      },
      "execution_count": 43,
      "outputs": [
        {
          "output_type": "stream",
          "name": "stdout",
          "text": [
            "Restaurant five foods are:\n",
            "Chicken\n",
            "Handi\n",
            "Mutton\n",
            "Fish\n",
            "Daal\n"
          ]
        },
        {
          "output_type": "error",
          "ename": "TypeError",
          "evalue": "ignored",
          "traceback": [
            "\u001b[0;31m---------------------------------------------------------------------------\u001b[0m",
            "\u001b[0;31mTypeError\u001b[0m                                 Traceback (most recent call last)",
            "\u001b[0;32m<ipython-input-43-117bdaadabdd>\u001b[0m in \u001b[0;36m<module>\u001b[0;34m\u001b[0m\n\u001b[1;32m      3\u001b[0m \u001b[0;32mfor\u001b[0m \u001b[0mwaqas_foods\u001b[0m \u001b[0;32min\u001b[0m \u001b[0mwaqas_foods\u001b[0m\u001b[0;34m:\u001b[0m\u001b[0;34m\u001b[0m\u001b[0;34m\u001b[0m\u001b[0m\n\u001b[1;32m      4\u001b[0m   \u001b[0mprint\u001b[0m\u001b[0;34m(\u001b[0m\u001b[0mwaqas_foods\u001b[0m\u001b[0;34m)\u001b[0m\u001b[0;34m\u001b[0m\u001b[0;34m\u001b[0m\u001b[0m\n\u001b[0;32m----> 5\u001b[0;31m \u001b[0mwaqas_foods\u001b[0m\u001b[0;34m[\u001b[0m\u001b[0;36m0\u001b[0m\u001b[0;34m]\u001b[0m\u001b[0;34m=\u001b[0m \u001b[0;34m'Sindhi Biryani'\u001b[0m\u001b[0;34m\u001b[0m\u001b[0;34m\u001b[0m\u001b[0m\n\u001b[0m",
            "\u001b[0;31mTypeError\u001b[0m: 'str' object does not support item assignment"
          ]
        }
      ]
    },
    {
      "cell_type": "code",
      "source": [
        "waqas_foods={'Rice','Tikka','Daal','Mutton','Saag'}\n",
        "print(\"Revised menu of Resturaunt is:\")\n",
        "for foods in waqas_foods:\n",
        "  print(foods)"
      ],
      "metadata": {
        "colab": {
          "base_uri": "https://localhost:8080/"
        },
        "id": "DdZlryjndc4u",
        "outputId": "946479de-f327-4d88-9527-1ffdde80dc33"
      },
      "execution_count": 48,
      "outputs": [
        {
          "output_type": "stream",
          "name": "stdout",
          "text": [
            "Revised menu of Resturaunt is:\n",
            "Mutton\n",
            "Rice\n",
            "Saag\n",
            "Daal\n",
            "Tikka\n"
          ]
        }
      ]
    },
    {
      "cell_type": "markdown",
      "source": [
        "Problem 6-3. Glossary: A python dictionary can be used to model actual dictionary. However to avoid confusion lets call it glossary..........\n",
        "\n"
      ],
      "metadata": {
        "id": "6hYFN9wA8pMa"
      }
    },
    {
      "cell_type": "code",
      "source": [
        "waqas_langauges={\n",
        "                 'int':'integer values which contain whole numbers',\n",
        "                 'float':'real Values',\n",
        "                 'char':'a single character',\n",
        "                 'string':'collection of characters',\n",
        "                 'bool':'bolean values which are true or false'\n",
        "                 }\n",
        "for key, value in waqas_langauges.items():\n",
        "  print(key+ \": Means \"+value.title())\n",
        "  print('\\n')"
      ],
      "metadata": {
        "colab": {
          "base_uri": "https://localhost:8080/"
        },
        "id": "Jd8WWQSCFTK5",
        "outputId": "e5a1e4a6-6095-4e05-ef58-e6a55a318329"
      },
      "execution_count": 42,
      "outputs": [
        {
          "output_type": "stream",
          "name": "stdout",
          "text": [
            "int: Means Integer Values Which Contain Whole Numbers\n",
            "\n",
            "\n",
            "float: Means Real Values\n",
            "\n",
            "\n",
            "char: Means A Single Character\n",
            "\n",
            "\n",
            "string: Means Collection Of Characters\n",
            "\n",
            "\n",
            "bool: Means Bolean Values Which Are True Or False\n",
            "\n",
            "\n"
          ]
        }
      ]
    },
    {
      "cell_type": "markdown",
      "source": [
        "6-11.Cities: Make a dictionary called cities.Use the names of three cities as keys in your dictionary......"
      ],
      "metadata": {
        "id": "L3F4Asdjh-bQ"
      }
    },
    {
      "cell_type": "code",
      "source": [
        "cities={\n",
        "    'Multan':{'Country':'Pakitan','Population':'10lac','Fact':'City of Saints'},\n",
        "    'Murree':{'Country':'Pakistan','Population':'15lac','Fact':'City of greenery and hills'},\n",
        "    'Islamabad':{'Country':'Pakistan','Population':'5lac','Fact':'Capital of Pakistan'}\n",
        "}\n",
        "for city,inf in cities.items():\n",
        "  print('\\n Name of City:'+city )\n",
        "  print('\\t It is located in ' +inf['Country'])\n",
        "  print('\\t Its population is ' +inf['Population'])\n",
        "  print('\\t Its main fact is ' +inf['Fact'])"
      ],
      "metadata": {
        "colab": {
          "base_uri": "https://localhost:8080/"
        },
        "id": "zi0Qp0j0iUIm",
        "outputId": "2727d78d-2f66-442e-9295-f58a9f5614f0"
      },
      "execution_count": 13,
      "outputs": [
        {
          "output_type": "stream",
          "name": "stdout",
          "text": [
            "\n",
            " Name of City:Multan\n",
            "\t It is located in Pakitan\n",
            "\t Its population is 10lac\n",
            "\t Its main fact is City of Saints\n",
            "\n",
            " Name of City:Murree\n",
            "\t It is located in Pakistan\n",
            "\t Its population is 15lac\n",
            "\t Its main fact is City of greenery and hills\n",
            "\n",
            " Name of City:Islamabad\n",
            "\t It is located in Pakistan\n",
            "\t Its population is 5lac\n",
            "\t Its main fact is Capital of Pakistan\n"
          ]
        }
      ]
    },
    {
      "cell_type": "markdown",
      "source": [
        "Problem 5-2: More conditional tests.You don't have to limit the number of tests you create to 10........ "
      ],
      "metadata": {
        "id": "nl2Nt5ixNJ5O"
      }
    },
    {
      "cell_type": "code",
      "source": [
        "from pickle import TRUE\n",
        "children_waqas=\"Maaz\"\n",
        "print(children_waqas==\"Dua\")\n",
        "print(children_waqas==\"Maaz\")\n",
        "print(children_waqas!=\"dua\")\n",
        "print(children_waqas!=\"Maaz\")\n",
        "print(\"\\n\")\n",
        "print(children_waqas.lower()==\"Maaz\")\n",
        "print(children_waqas.lower()==\"maaz\")\n",
        "print(\"\\n\")\n",
        "number_waqas=20\n",
        "print(number_waqas==15)\n",
        "print(number_waqas!=13)\n",
        "print(number_waqas>=18)\n",
        "print(number_waqas<=20)\n",
        "print(number_waqas>10)\n",
        "print(number_waqas<25)\n",
        "print(\"\\n\")\n",
        "waqas_height=5.9\n",
        "waqas_age=31\n",
        "print(waqas_height>13 and waqas_age<=29)\n",
        "print(waqas_age<34 or waqas_height>=5)\n",
        "print(\"\\n\")\n",
        "waqas_list=[20,30,670,125,567,34,90]\n",
        "waqas_item=68\n",
        "for item in waqas_list:\n",
        "  if(waqas_item==item):\n",
        "    waqas_item=True\n",
        "if(waqas_item==item):\n",
        "   print(\"Item is available in the list\")\n",
        "else:\n",
        "   print(\"Item is not available in the list\")\n"
      ],
      "metadata": {
        "colab": {
          "base_uri": "https://localhost:8080/"
        },
        "id": "M0Q_DhczNfCi",
        "outputId": "0148dc27-361e-4e36-d67b-be2774c07233"
      },
      "execution_count": 35,
      "outputs": [
        {
          "output_type": "stream",
          "name": "stdout",
          "text": [
            "False\n",
            "True\n",
            "True\n",
            "False\n",
            "\n",
            "\n",
            "False\n",
            "True\n",
            "\n",
            "\n",
            "False\n",
            "True\n",
            "True\n",
            "True\n",
            "True\n",
            "True\n",
            "\n",
            "\n",
            "False\n",
            "True\n",
            "\n",
            "\n",
            "Item is not available in the list\n"
          ]
        }
      ]
    },
    {
      "cell_type": "markdown",
      "source": [
        "Problem 6-12. Extensions: We are now working with examples that are complex enough that they can be extended in any number of ways........"
      ],
      "metadata": {
        "id": "sV_uheomVOHv"
      }
    },
    {
      "cell_type": "code",
      "source": [
        "fav_lang_waqas={\n",
        "    'jen':'python',\n",
        "    'sara':'c',\n",
        "    'edward':'ruby',\n",
        "    'phill':'python'\n",
        "}\n",
        "print(\"The items in the dictionary are:\")\n",
        "for key,value in fav_lang_waqas.items():\n",
        "  print(key.title()+\" favourite language is \"+value.title())\n",
        "fav_lang_waqas['waqas']='c++'\n",
        "fav_lang_waqas['maaz']='java'\n",
        "print('\\n')\n",
        "for key,value in fav_lang_waqas.items():\n",
        "  print(key.title()+\" favourite lamguage is \"+value.upper())"
      ],
      "metadata": {
        "colab": {
          "base_uri": "https://localhost:8080/"
        },
        "id": "M0_7yo94Vhzc",
        "outputId": "d3318517-9b25-4d4a-d041-ba76f1ae180c"
      },
      "execution_count": 40,
      "outputs": [
        {
          "output_type": "stream",
          "name": "stdout",
          "text": [
            "The items in the dictionary are:\n",
            "Jen favourite language is Python\n",
            "Sara favourite language is C\n",
            "Edward favourite language is Ruby\n",
            "Phill favourite language is Python\n",
            "\n",
            "\n",
            "Jen favourite lamguage is PYTHON\n",
            "Sara favourite lamguage is C\n",
            "Edward favourite lamguage is RUBY\n",
            "Phill favourite lamguage is PYTHON\n",
            "Waqas favourite lamguage is C++\n",
            "Maaz favourite lamguage is JAVA\n"
          ]
        }
      ]
    }
  ]
}